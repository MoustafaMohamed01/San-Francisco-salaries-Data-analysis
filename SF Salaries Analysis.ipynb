{
 "cells": [
  {
   "cell_type": "code",
   "execution_count": null,
   "id": "4af36402-5182-41d0-ad74-583e8cc2d416",
   "metadata": {},
   "outputs": [],
   "source": [
    "import numpy as np\n",
    "import pandas as pd\n",
    "import seaborn as sns\n",
    "import matplotlib.pyplot as plt"
   ]
  },
  {
   "cell_type": "code",
   "execution_count": null,
   "id": "8caa9a70-f110-4bb3-a9e0-537139959f2f",
   "metadata": {},
   "outputs": [],
   "source": [
    "df = pd.read_csv(\"Salaries.csv\")"
   ]
  },
  {
   "cell_type": "code",
   "execution_count": null,
   "id": "7e5b854d-58be-4b7d-8b4f-4e9c2a554b2d",
   "metadata": {},
   "outputs": [],
   "source": [
    "df.head()"
   ]
  },
  {
   "cell_type": "code",
   "execution_count": null,
   "id": "4ce2560e-7bd9-46af-91a5-3b2e0ed33240",
   "metadata": {},
   "outputs": [],
   "source": [
    "df.info()"
   ]
  },
  {
   "cell_type": "markdown",
   "id": "e835db5c-4386-495f-b31f-3046d00f5196",
   "metadata": {},
   "source": [
    "---\n",
    "# Data Cleaning and Analysis Summary\n",
    "---"
   ]
  },
  {
   "cell_type": "markdown",
   "id": "e28ddd0d-704f-495f-ba71-9d1431924d7c",
   "metadata": {},
   "source": [
    "## Data Type Conversion\n",
    "The following columns were converted to numeric data types:\n",
    "- `BasePay`\n",
    "- `OvertimePay`\n",
    "- `OtherPay`\n",
    "- `Benefits`\n",
    "\n",
    "Any non-numeric values were coerced into NaN (missing values)."
   ]
  },
  {
   "cell_type": "code",
   "execution_count": null,
   "id": "a2d35d76-3e36-4700-9ba9-02c6f0572da8",
   "metadata": {},
   "outputs": [],
   "source": [
    "df[[\"BasePay\", \"OvertimePay\", \"OtherPay\", \"Benefits\"]] = df[[\"BasePay\", \"OvertimePay\", \"OtherPay\", \"Benefits\"]].apply(pd.to_numeric, errors='coerce')"
   ]
  },
  {
   "cell_type": "code",
   "execution_count": null,
   "id": "8633c67b-9a24-4550-a28e-cb28fc1165cb",
   "metadata": {},
   "outputs": [],
   "source": [
    "df.info()"
   ]
  },
  {
   "cell_type": "markdown",
   "id": "c951d39d-5869-400e-813a-2e989a553597",
   "metadata": {},
   "source": [
    "## Summary Statistics Before Data Cleaning\n",
    "```\n",
    "- BasePay: Mean = 66,325.45, Min = -166.01, Max = 319,275.01\n",
    "- OvertimePay: Mean = 5,066.06, Min = -0.01, Max = 245,131.88\n",
    "- OtherPay: Mean = 3,648.77, Min = -7,058.59, Max = 400,184.25\n",
    "- Benefits: Mean = 25,007.89, Min = -33.89, Max = 96,570.66\n",
    "- TotalPay: Mean = 74,768.32, Min = -618.13, Max = 567,595.43\n",
    "- TotalPayBenefits: Mean = 93,692.55, Min = -618.13, Max = 567,595.43\n",
    "```\n",
    "Some negative values indicate potential data errors or deductions in pay."
   ]
  },
  {
   "cell_type": "code",
   "execution_count": null,
   "id": "8c3d92fb-1a61-4097-acec-1483b271ec84",
   "metadata": {},
   "outputs": [],
   "source": [
    "df.describe()"
   ]
  },
  {
   "cell_type": "markdown",
   "id": "776e117e-6e42-4c10-88ed-459f5a5826f0",
   "metadata": {},
   "source": [
    "## Missing Values Before Handling\n",
    "```\n",
    "- BasePay: 609 missing values\n",
    "- OvertimePay: 4 missing values\n",
    "- OtherPay: 4 missing values\n",
    "- Benefits: 36,163 missing values\n",
    "- Notes: 148,654 missing values (entirely missing)\n",
    "- Status: 110,535 missing values\n",
    "```\n",
    "Columns `Notes` and `Status` had excessive missing values and were dropped."
   ]
  },
  {
   "cell_type": "code",
   "execution_count": null,
   "id": "dde4f99f-9095-4bf6-8e23-a9e70c91b5e0",
   "metadata": {},
   "outputs": [],
   "source": [
    "df.isnull().sum()"
   ]
  },
  {
   "cell_type": "markdown",
   "id": "23521b2b-c17c-4d44-b2dc-ac4a63fb4581",
   "metadata": {},
   "source": [
    "## Data Cleaning Actions\n",
    "- **BasePay**: Missing values filled with the mean (66,325.45).\n",
    "- **OvertimePay & OtherPay & Benefits**: Missing values filled with 0.\n",
    "- **Dropped Columns**: `Status` and `Notes`.\n",
    "\n",
    "After this cleaning, there were no missing values left in the dataset."
   ]
  },
  {
   "cell_type": "code",
   "execution_count": null,
   "id": "4fc1c826-652b-4b2e-8b5f-91ff6ec9ffc3",
   "metadata": {},
   "outputs": [],
   "source": [
    "df[\"BasePay\"] = df[\"BasePay\"].fillna(df[\"BasePay\"].mean())"
   ]
  },
  {
   "cell_type": "code",
   "execution_count": null,
   "id": "9b2dcbce-26cc-41ba-8e1f-47ca27e2962d",
   "metadata": {},
   "outputs": [],
   "source": [
    "df[[\"OvertimePay\",\"OtherPay\",\"Benefits\"]] = df[[\"OvertimePay\",\"OtherPay\",\"Benefits\"]].fillna(0)"
   ]
  },
  {
   "cell_type": "code",
   "execution_count": null,
   "id": "9632af51-cb97-42b8-af9d-d6035e4aa7bf",
   "metadata": {},
   "outputs": [],
   "source": [
    "df.drop(columns=[\"Status\"],inplace=True)"
   ]
  },
  {
   "cell_type": "code",
   "execution_count": null,
   "id": "6408062b-aedc-4d9b-af93-fe6eb0a5d53e",
   "metadata": {},
   "outputs": [],
   "source": [
    "df.drop(columns=[\"Notes\"],inplace=True)"
   ]
  },
  {
   "cell_type": "markdown",
   "id": "5c794143-95a8-4076-9cbd-5aa7c1d8211b",
   "metadata": {},
   "source": [
    "---"
   ]
  },
  {
   "cell_type": "markdown",
   "id": "4fb71e14-c865-4680-94fe-236862bed562",
   "metadata": {},
   "source": [
    "## Ensuring Correct Calculation of TotalPay and TotalPayBenefits\n",
    "\n",
    "To ensure that total compensation is correctly computed, we calculate two important columns."
   ]
  },
  {
   "cell_type": "code",
   "execution_count": null,
   "id": "70ef652b-799d-4d44-8a3a-bc5f934a25f4",
   "metadata": {},
   "outputs": [],
   "source": [
    "df[\"TotalPay\"] = df[\"BasePay\"]+df[\"OvertimePay\"]+df[\"OtherPay\"]"
   ]
  },
  {
   "cell_type": "code",
   "execution_count": null,
   "id": "df16ee17-353a-4011-b56a-65b578cccbbc",
   "metadata": {},
   "outputs": [],
   "source": [
    "df[\"TotalPayBenefits\"] = df[\"TotalPay\"]+df[\"Benefits\"]"
   ]
  },
  {
   "cell_type": "markdown",
   "id": "672575d5-fb2c-4612-8a3b-b01a775e4666",
   "metadata": {},
   "source": [
    "## Summary Statistics After Data Cleaning\n",
    "```\n",
    "- BasePay: Mean = 66,325.45, Min = -166.01, Max = 319,275.01\n",
    "- OvertimePay: Mean = 5,065.92, Min = -0.01, Max = 245,131.88\n",
    "- OtherPay: Mean = 3,648.67, Min = -7,058.59, Max = 400,184.25\n",
    "- Benefits: Mean = 18,924.23, Min = -33.89, Max = 96,570.66\n",
    "- TotalPay: Mean = 75,040.04, Min = -618.13, Max = 567,595.43\n",
    "- TotalPayBenefits: Mean = 93,964.27, Min = -618.13, Max = 567,595.43"
   ]
  },
  {
   "cell_type": "code",
   "execution_count": null,
   "id": "39cf1a11-e89f-46e5-837b-488579d5a99b",
   "metadata": {},
   "outputs": [],
   "source": [
    "df[[\"BasePay\",\"OvertimePay\",\"OtherPay\",\"Benefits\",\"TotalPay\",\"TotalPayBenefits\"]].describe()"
   ]
  },
  {
   "cell_type": "markdown",
   "id": "e4304ed1-c505-4625-a85f-eec1f16333af",
   "metadata": {},
   "source": [
    "---\n",
    "## Distribution analysis\n",
    "---"
   ]
  },
  {
   "cell_type": "markdown",
   "id": "59b39d69-7346-41b1-b8bf-a5c842778a7e",
   "metadata": {},
   "source": [
    "## Histogram of BasePay, OvertimePay, TotalPay"
   ]
  },
  {
   "cell_type": "markdown",
   "id": "c9739319-b3c9-423f-b01b-5c672556ee77",
   "metadata": {},
   "source": [
    "### BasePay Distribution\n",
    "- The histogram shows a right-skewed distribution, meaning most employees have lower base pay, with fewer employees earning significantly higher salaries.\n",
    "- The peak frequency is in the lower salary range, gradually decreasing as salaries increase.\n",
    "- There are some negative values that may need further investigation."
   ]
  },
  {
   "cell_type": "code",
   "execution_count": null,
   "id": "d0ee5f34-f627-4e7b-82b8-6d225d0d5fec",
   "metadata": {},
   "outputs": [],
   "source": [
    "plt.style.use(\"dark_background\")\n",
    "plt.figure(figsize=(12, 6))\n",
    "sns.histplot(df['BasePay'], color='#00BFFF', kde=True, linewidth=2, edgecolor='white', alpha=0.8)\n",
    "plt.title('Distribution of BasePay', fontsize=16, fontweight='bold', color='white')\n",
    "plt.xlabel('BasePay', fontsize=14, fontweight='bold', color='white')\n",
    "plt.ylabel('Frequency', fontsize=14, fontweight='bold', color='white')\n",
    "plt.grid(True, linestyle='--', linewidth=0.5, alpha=0.6, color='gray')\n",
    "plt.tight_layout()\n",
    "plt.savefig('basepay_distribution.png', dpi=300, bbox_inches='tight')\n",
    "\n",
    "plt.show()"
   ]
  },
  {
   "cell_type": "markdown",
   "id": "c3f44577-5ddf-49a7-a777-32627e6235d5",
   "metadata": {},
   "source": [
    "### OvertimePay Distribution\n",
    "- The majority of employees have little to no overtime pay, as indicated by the high concentration of values near zero.\n",
    "- A long right tail shows that some employees receive substantial overtime pay."
   ]
  },
  {
   "cell_type": "code",
   "execution_count": null,
   "id": "bee1251b-a3df-4d21-9a77-0bcc2fff1147",
   "metadata": {},
   "outputs": [],
   "source": [
    "plt.style.use(\"dark_background\")\n",
    "plt.figure(figsize=(12, 6))\n",
    "sns.histplot(df['OvertimePay'], bins=20, kde=True, color='#00FF7F', linewidth=2, edgecolor='white', alpha=0.8)\n",
    "plt.title('Distribution of Overtime Pay', fontsize=16, fontweight='bold', color='white')\n",
    "plt.xlabel('Overtime Pay', fontsize=14, fontweight='bold', color='white')\n",
    "plt.ylabel('Frequency', fontsize=14, fontweight='bold', color='white')\n",
    "plt.grid(True, linestyle='--', linewidth=0.5, alpha=0.6, color='gray')\n",
    "plt.tight_layout()\n",
    "plt.savefig('overtimepay_distribution.png', dpi=300, bbox_inches='tight')\n",
    "plt.show()"
   ]
  },
  {
   "cell_type": "markdown",
   "id": "56494b52-e0a9-47bd-b38a-12dbc6679101",
   "metadata": {},
   "source": [
    "### TotalPay Distribution\n",
    "- The distribution follows a similar pattern to BasePay but accounts for OvertimePay and OtherPay.\n",
    "- Most employees fall within a common pay range, but a few have significantly higher total earnings, contributing to the right-skewed nature of the data."
   ]
  },
  {
   "cell_type": "code",
   "execution_count": null,
   "id": "faf9b692-ea56-40f2-92e2-75f8e2be05bb",
   "metadata": {},
   "outputs": [],
   "source": [
    "plt.style.use(\"dark_background\")\n",
    "plt.figure(figsize=(12, 6))\n",
    "sns.histplot(df['TotalPay'], bins=20, kde=True, color='#FF4500', linewidth=2, edgecolor='white', alpha=0.8)\n",
    "plt.title('Distribution of Total Pay', fontsize=16, fontweight='bold', color='white')\n",
    "plt.xlabel('Total Pay', fontsize=14, fontweight='bold', color='white')\n",
    "plt.ylabel('Frequency', fontsize=14, fontweight='bold', color='white')\n",
    "plt.grid(True, linestyle='--', linewidth=0.5, alpha=0.6, color='gray')\n",
    "plt.tight_layout()\n",
    "plt.savefig('totalpay_distribution.png', dpi=300, bbox_inches='tight')\n",
    "plt.show()"
   ]
  },
  {
   "cell_type": "markdown",
   "id": "331da945-7b88-4373-8dc9-219622509c6b",
   "metadata": {},
   "source": [
    "- The distribution analysis highlights a highly skewed pay structure, with most employees earning lower wages and a few receiving significantly higher"
   ]
  },
  {
   "cell_type": "markdown",
   "id": "5dec2166-8289-4c19-b4c3-8ffeb63f03ec",
   "metadata": {},
   "source": [
    "## Salary and Job Trends Analysis"
   ]
  },
  {
   "cell_type": "markdown",
   "id": "14ce0a6d-863f-45c9-b8f5-94a4be1630f0",
   "metadata": {},
   "source": [
    "### Salary Trends Over the Years\n",
    "- The average `BasePay` per year was analyzed, showing a general trend over time.\n",
    "- A line plot visualizes fluctuations in average salaries.\n",
    "- Identifies any rising or declining salary trends over the years."
   ]
  },
  {
   "cell_type": "code",
   "execution_count": null,
   "id": "b11ce39a-d9a8-41d1-b9d4-6e5ed162eca6",
   "metadata": {},
   "outputs": [],
   "source": [
    "average_BasePay_per_year = df.groupby(\"Year\")[\"BasePay\"].mean().reset_index()"
   ]
  },
  {
   "cell_type": "code",
   "execution_count": null,
   "id": "314f39c8-7be2-4496-b803-ca88dc14e4e9",
   "metadata": {},
   "outputs": [],
   "source": [
    "average_BasePay_per_year"
   ]
  },
  {
   "cell_type": "code",
   "execution_count": null,
   "id": "0de6ce56-a239-49e5-9115-dceca49ad454",
   "metadata": {},
   "outputs": [],
   "source": [
    "plt.style.use(\"dark_background\")\n",
    "plt.figure(figsize=(12, 6))\n",
    "sns.lineplot(data=average_BasePay_per_year, x=\"Year\", y=\"BasePay\", color='#00FFFF', linewidth=2.5, marker='o', markersize=8)\n",
    "plt.title(\"Salary Trends Over Years (Average BasePay per Year)\", fontsize=16, fontweight='bold', color='white')\n",
    "plt.xlabel(\"Year\", fontsize=14, fontweight='bold', color='white')\n",
    "plt.ylabel(\"Average BasePay\", fontsize=14, fontweight='bold', color='white')\n",
    "plt.grid(True, linestyle='--', linewidth=0.5, alpha=0.6, color='gray')\n",
    "plt.tight_layout()\n",
    "plt.savefig('salary_trends.png', dpi=300, bbox_inches='tight')\n",
    "plt.show()"
   ]
  },
  {
   "cell_type": "markdown",
   "id": "51abe017-bf81-440a-9d3f-0d9a2cbd5d38",
   "metadata": {},
   "source": [
    "### Total Salary Expenditure Trends\n",
    "- Total `TotalPay` expenditure per year was calculated to analyze yearly spending.\n",
    "- The plotted line chart shows the overall increase or decrease in total salary costs over time."
   ]
  },
  {
   "cell_type": "code",
   "execution_count": null,
   "id": "efc86391-9c0d-44dd-815e-b6963d80c600",
   "metadata": {},
   "outputs": [],
   "source": [
    "TotalPay_expenditure_per_year = df.groupby(\"Year\")[\"TotalPay\"].sum().reset_index()"
   ]
  },
  {
   "cell_type": "code",
   "execution_count": null,
   "id": "da753cd2-5215-4018-bce2-7a1856ec8162",
   "metadata": {},
   "outputs": [],
   "source": [
    "TotalPay_expenditure_per_year"
   ]
  },
  {
   "cell_type": "code",
   "execution_count": null,
   "id": "a445023c-b21b-4cba-bdce-247bbf02007a",
   "metadata": {},
   "outputs": [],
   "source": [
    "plt.style.use(\"dark_background\")\n",
    "plt.figure(figsize=(12, 6))\n",
    "sns.lineplot(data=TotalPay_expenditure_per_year, x=\"Year\", y=\"TotalPay\", color='#FFA500', linewidth=2.5, marker='o', markersize=8)\n",
    "plt.title(\"TotalPay Expenditure Trends Over Years\", fontsize=16, fontweight='bold', color='white')\n",
    "plt.xlabel(\"Year\", fontsize=14, fontweight='bold', color='white')\n",
    "plt.ylabel(\"TotalPay Expenditure\", fontsize=14, fontweight='bold', color='white')\n",
    "plt.grid(True, linestyle='--', linewidth=0.5, alpha=0.6, color='gray')\n",
    "plt.tight_layout()\n",
    "plt.savefig('totalpay_expenditure_trends.png', dpi=300, bbox_inches='tight')\n",
    "plt.show()"
   ]
  },
  {
   "cell_type": "code",
   "execution_count": null,
   "id": "85b1209c-831f-4c2a-b061-57335b44ca34",
   "metadata": {},
   "outputs": [],
   "source": [
    "df.head()"
   ]
  },
  {
   "cell_type": "markdown",
   "id": "928e34e7-d27f-41d4-b96c-43175438c855",
   "metadata": {},
   "source": [
    "### Top-Paid Job Titles\n",
    "- The top 10 highest-paid job titles were identified based on `TotalPay`.\n",
    "- A bar chart visualizes the highest-earning roles."
   ]
  },
  {
   "cell_type": "code",
   "execution_count": null,
   "id": "cfd81d1d-bf66-4740-84d0-e4c9faaffd66",
   "metadata": {},
   "outputs": [],
   "source": [
    "avg_TotalPay_per_job = df.groupby(\"JobTitle\")[\"TotalPay\"].mean().reset_index()"
   ]
  },
  {
   "cell_type": "code",
   "execution_count": null,
   "id": "e9a8a9c7-b8be-40ef-ad4b-553a6a37ff90",
   "metadata": {},
   "outputs": [],
   "source": [
    "top_10_paid_job = (avg_TotalPay_per_job.sort_values(by=\"TotalPay\",ascending=False)).head(10)\n",
    "top_10_paid_job"
   ]
  },
  {
   "cell_type": "code",
   "execution_count": null,
   "id": "c4bfeefd-648a-4d92-b6c4-97d29388c5f8",
   "metadata": {},
   "outputs": [],
   "source": [
    "plt.style.use(\"dark_background\")\n",
    "plt.figure(figsize=(12, 6))\n",
    "sns.barplot(data=top_10_paid_job, x=\"JobTitle\", y=\"TotalPay\", color=\"#335BF9\")\n",
    "plt.title('Top Highest-Paid Job Titles', fontsize=16, fontweight='bold', color='white')\n",
    "plt.xlabel('Job Title', fontsize=14, fontweight='bold', color='white')\n",
    "plt.ylabel('Average TotalPay', fontsize=14, fontweight='bold', color='white')\n",
    "plt.xticks(rotation=85, fontsize=12, color='white')\n",
    "plt.yticks(fontsize=12, color='white')\n",
    "plt.grid(axis='y', linestyle='--', linewidth=0.5, alpha=0.6, color='gray')\n",
    "plt.savefig('top_highest_paid_jobs.png', dpi=300, bbox_inches='tight')\n",
    "plt.show()"
   ]
  },
  {
   "cell_type": "markdown",
   "id": "80c7961c-250e-465f-902e-7694069ed9b9",
   "metadata": {},
   "source": [
    "### Job Roles with Highest Overtime Pay\n",
    "- The top 10 job roles with the highest average `OvertimePay` were identified.\n",
    "- A bar chart illustrates which jobs earn the most overtime compensation."
   ]
  },
  {
   "cell_type": "code",
   "execution_count": null,
   "id": "a524b5ec-c5fc-4978-aef3-46f56e08f80c",
   "metadata": {},
   "outputs": [],
   "source": [
    "avg_OvertimePay_job = df.groupby(\"JobTitle\")[\"OvertimePay\"].mean().reset_index()"
   ]
  },
  {
   "cell_type": "code",
   "execution_count": null,
   "id": "ccc6a3c8-80af-4f5f-bc32-e816d6cc79c8",
   "metadata": {},
   "outputs": [],
   "source": [
    "top_10_overtime_paid_job = (avg_OvertimePay_job.sort_values(by=\"OvertimePay\",ascending=False)).head(10)\n",
    "top_10_overtime_paid_job"
   ]
  },
  {
   "cell_type": "code",
   "execution_count": null,
   "id": "f798e704-2cc5-4145-885c-9fb5a6f023b9",
   "metadata": {},
   "outputs": [],
   "source": [
    "plt.style.use(\"dark_background\")\n",
    "plt.figure(figsize=(12, 6), dpi=200)\n",
    "sns.barplot(data=top_10_overtime_paid_job, x=\"JobTitle\", y=\"OvertimePay\", color=\"#335BF9\")\n",
    "plt.title('Job Roles with Highest Overtime Pay', fontsize=16, fontweight='bold', color='white')\n",
    "plt.xlabel('Job Title', fontsize=14, fontweight='bold', color='white')\n",
    "plt.ylabel('Average OvertimePay', fontsize=14, fontweight='bold', color='white')\n",
    "plt.xticks(rotation=85, fontsize=12, color='white')\n",
    "plt.yticks(fontsize=12, color='white')\n",
    "plt.grid(axis='y', linestyle='--', linewidth=0.5, alpha=0.6, color='gray')\n",
    "plt.savefig('highest_overtime_paid_jobs.png', dpi=300, bbox_inches='tight')\n",
    "plt.show()"
   ]
  },
  {
   "cell_type": "markdown",
   "id": "3f45f311-f119-4668-863e-9fcbcee96f27",
   "metadata": {},
   "source": [
    "### Unique Job Titles Count\n",
    "- The dataset contains a total of `2159` unique job titles."
   ]
  },
  {
   "cell_type": "code",
   "execution_count": null,
   "id": "9fb60666-cc00-4234-ae32-a163e28ac730",
   "metadata": {},
   "outputs": [],
   "source": [
    "df[\"JobTitle\"].nunique()"
   ]
  },
  {
   "cell_type": "markdown",
   "id": "1c8b5789-4934-468d-9da5-30bfa6d6c330",
   "metadata": {},
   "source": [
    "### Outliers in Total Compensation\n",
    "- A boxplot was generated for `TotalPayBenefits` to identify unusually high salaries.\n",
    "- Outliers are data points that deviate significantly from the overall distribution of salaries.\n",
    "- The presence of high outliers suggests that a small group of employees earn substantially more than the majority.\n",
    "- This could be due to executive salaries, bonuses, or specific job roles with higher compensation packages.\n",
    "- The boxplot helps to visualize the spread of salaries and detect any extreme values that may warrant further investigation."
   ]
  },
  {
   "cell_type": "code",
   "execution_count": null,
   "id": "73792672-536a-466e-8224-fcdc0dcc4be1",
   "metadata": {},
   "outputs": [],
   "source": [
    "plt.style.use(\"dark_background\")\n",
    "plt.figure(figsize=(12, 5), dpi=200)\n",
    "\n",
    "sns.boxplot(data=df, x=\"TotalPayBenefits\", color=\"#33F98F\")\n",
    "plt.title('Boxplot for TotalPayBenefits (Identifying Unusually High Salaries)', fontsize=16, fontweight='bold', color='white')\n",
    "plt.xlabel(\"TotalPayBenefits\", fontsize=14, fontweight='bold', color='white')\n",
    "plt.xticks(fontsize=12, color='white')\n",
    "plt.yticks(fontsize=12, color='white')\n",
    "plt.grid(True, linestyle='--', linewidth=0.5, alpha=0.6, color='gray')\n",
    "plt.tight_layout()\n",
    "plt.savefig('boxplot_totalpaybenefits.png', dpi=300, bbox_inches='tight')\n",
    "plt.show()"
   ]
  },
  {
   "cell_type": "markdown",
   "id": "e95052c8-d92a-4846-a6f4-d9e0c53db563",
   "metadata": {},
   "source": [
    "### Highest-Paid Employees\n",
    "- The 10 highest-paid employees (based on `TotalPayBenefits`) were identified.\n",
    "- Names, job titles, and total earnings were extracted."
   ]
  },
  {
   "cell_type": "code",
   "execution_count": null,
   "id": "ddc0c932-74cc-4143-92ab-57c200ce8a47",
   "metadata": {},
   "outputs": [],
   "source": [
    "top_10_highest_paid_employees = (df.sort_values(by=\"TotalPayBenefits\",ascending=False)).head(10)\n",
    "top_10_highest_paid_employees[[\"EmployeeName\",\"JobTitle\",\"TotalPayBenefits\"]]"
   ]
  },
  {
   "cell_type": "markdown",
   "id": "0e350741-0610-4c6c-900e-303bf48c8054",
   "metadata": {},
   "source": [
    "### Correlation Analysis\n",
    "- The correlation matrix for `BasePay`, `OvertimePay`, and `TotalPayBenefits` was computed.\n",
    "- A heatmap visualizes relationships between salary components.\n",
    "- Helps in understanding which pay components are most interrelated."
   ]
  },
  {
   "cell_type": "code",
   "execution_count": null,
   "id": "6944e522-e682-4784-899a-f9567096e771",
   "metadata": {},
   "outputs": [],
   "source": [
    "correlation_matrix = df[['BasePay', 'OvertimePay', 'TotalPayBenefits']].corr()\n",
    "correlation_matrix"
   ]
  },
  {
   "cell_type": "code",
   "execution_count": null,
   "id": "430bf7f1-dd65-4238-a7a7-d56c34addd43",
   "metadata": {},
   "outputs": [],
   "source": [
    "plt.style.use(\"dark_background\")\n",
    "plt.figure(figsize=(10, 8))\n",
    "sns.heatmap(data=correlation_matrix, cmap='coolwarm', annot=True, linewidths=0.5, fmt=\".2f\", cbar_kws={'shrink': 0.8})\n",
    "plt.title('Correlation Analysis: BasePay, OvertimePay, TotalPay, and Benefits', fontsize=16, fontweight='bold', color='white')\n",
    "plt.tight_layout()\n",
    "plt.savefig('correlation_analysis.png', dpi=300, bbox_inches='tight')\n",
    "plt.show()"
   ]
  },
  {
   "cell_type": "code",
   "execution_count": null,
   "id": "4aa5f7a5-6d35-4d83-a4bc-ee26a5f82172",
   "metadata": {},
   "outputs": [],
   "source": []
  }
 ],
 "metadata": {
  "kernelspec": {
   "display_name": "Python 3 (ipykernel)",
   "language": "python",
   "name": "python3"
  },
  "language_info": {
   "codemirror_mode": {
    "name": "ipython",
    "version": 3
   },
   "file_extension": ".py",
   "mimetype": "text/x-python",
   "name": "python",
   "nbconvert_exporter": "python",
   "pygments_lexer": "ipython3",
   "version": "3.12.3"
  }
 },
 "nbformat": 4,
 "nbformat_minor": 5
}
